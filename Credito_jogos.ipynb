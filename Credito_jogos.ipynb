{
  "nbformat": 4,
  "nbformat_minor": 0,
  "metadata": {
    "colab": {
      "name": "Credito jogos.ipynb",
      "provenance": [],
      "toc_visible": true,
      "mount_file_id": "14_uH6UKi6zX9FSz9mtDoFInaBboREzUS",
      "authorship_tag": "ABX9TyMEWq+HrlAzAjQ/hDAFw6/j",
      "include_colab_link": true
    },
    "kernelspec": {
      "name": "python3",
      "display_name": "Python 3"
    }
  },
  "cells": [
    {
      "cell_type": "markdown",
      "metadata": {
        "id": "view-in-github",
        "colab_type": "text"
      },
      "source": [
        "<a href=\"https://colab.research.google.com/github/joaopedro-r/Ia-projetos/blob/main/Credito_jogos.ipynb\" target=\"_parent\"><img src=\"https://colab.research.google.com/assets/colab-badge.svg\" alt=\"Open In Colab\"/></a>"
      ]
    },
    {
      "cell_type": "code",
      "metadata": {
        "colab": {
          "base_uri": "https://localhost:8080/"
        },
        "id": "2Iq1JGWqVPmM",
        "outputId": "06456725-74da-4a50-9c7d-695b1d38415b"
      },
      "source": [
        "pip install mlrose"
      ],
      "execution_count": null,
      "outputs": [
        {
          "output_type": "stream",
          "text": [
            "Requirement already satisfied: mlrose in /usr/local/lib/python3.7/dist-packages (1.3.0)\n",
            "Requirement already satisfied: scipy in /usr/local/lib/python3.7/dist-packages (from mlrose) (1.4.1)\n",
            "Requirement already satisfied: numpy in /usr/local/lib/python3.7/dist-packages (from mlrose) (1.19.5)\n",
            "Requirement already satisfied: sklearn in /usr/local/lib/python3.7/dist-packages (from mlrose) (0.0)\n",
            "Requirement already satisfied: scikit-learn in /usr/local/lib/python3.7/dist-packages (from sklearn->mlrose) (0.22.2.post1)\n",
            "Requirement already satisfied: joblib>=0.11 in /usr/local/lib/python3.7/dist-packages (from scikit-learn->sklearn->mlrose) (1.0.1)\n"
          ],
          "name": "stdout"
        }
      ]
    },
    {
      "cell_type": "code",
      "metadata": {
        "id": "C84JNi7KVKin"
      },
      "source": [
        "import mlrose"
      ],
      "execution_count": null,
      "outputs": []
    },
    {
      "cell_type": "markdown",
      "metadata": {
        "id": "GRU5QjfqUEJW"
      },
      "source": [
        "# Organizar Dados"
      ]
    },
    {
      "cell_type": "code",
      "metadata": {
        "id": "22Jb0sZxUJvJ"
      },
      "source": [
        "lista_precos = []\r\n",
        "\r\n",
        "for linhas in open('/content/drive/MyDrive/Colab Notebooks/league_of_legends_RP.txt'):\r\n",
        "  diamantes, reais = linhas.split(',')\r\n",
        "  lista_precos.append((int(diamantes), float(reais)))"
      ],
      "execution_count": null,
      "outputs": []
    },
    {
      "cell_type": "code",
      "metadata": {
        "colab": {
          "base_uri": "https://localhost:8080/"
        },
        "id": "MEHTrAHrUOG0",
        "outputId": "64722e2a-9834-42af-e840-ef4c3e9a3ce0"
      },
      "source": [
        "lista_precos"
      ],
      "execution_count": null,
      "outputs": [
        {
          "output_type": "execute_result",
          "data": {
            "text/plain": [
              "[(650, 13.65),\n",
              " (1380, 27.25),\n",
              " (2800, 54.5),\n",
              " (5000, 95.5),\n",
              " (7200, 136.25),\n",
              " (15000, 272.5)]"
            ]
          },
          "metadata": {
            "tags": []
          },
          "execution_count": 15
        }
      ]
    },
    {
      "cell_type": "code",
      "metadata": {
        "id": "syiK0nzmUaa0"
      },
      "source": [
        "atual = 160\r\n",
        "skin = 9000"
      ],
      "execution_count": null,
      "outputs": []
    },
    {
      "cell_type": "markdown",
      "metadata": {
        "id": "slVgH_-aU5mY"
      },
      "source": [
        "# Função fitness"
      ]
    },
    {
      "cell_type": "code",
      "metadata": {
        "id": "4RpQk1wMUkLm"
      },
      "source": [
        "def fitness_function(lista_fit):\r\n",
        "  diamantes_max = skin\r\n",
        "  soma_diamantes = atual\r\n",
        "  soma_reais = 0\r\n",
        "  for a in range(len(lista_precos)):\r\n",
        "    if lista_fit[a] > 0:\r\n",
        "      soma_diamantes += lista_precos[a][0]*lista_fit[a]\r\n",
        "      soma_reais += lista_precos[a][1]*lista_fit[a]\r\n",
        "\r\n",
        "  if soma_diamantes < diamantes_max:\r\n",
        "    soma_reais = 99999999\r\n",
        "\r\n",
        "  return soma_reais"
      ],
      "execution_count": null,
      "outputs": []
    },
    {
      "cell_type": "code",
      "metadata": {
        "id": "Uw1l3LM3VCyC"
      },
      "source": [
        "fitness = mlrose.CustomFitness(fitness_function)\r\n",
        "problema = mlrose.DiscreteOpt(length=len(lista_precos), fitness_fn=fitness, maximize=False, max_val=10)\r\n"
      ],
      "execution_count": null,
      "outputs": []
    },
    {
      "cell_type": "markdown",
      "metadata": {
        "id": "8QUgfeoqVeWR"
      },
      "source": [
        "# algoritimo genetico"
      ]
    },
    {
      "cell_type": "code",
      "metadata": {
        "colab": {
          "base_uri": "https://localhost:8080/"
        },
        "id": "35DBb9LEVhYi",
        "outputId": "16ab7d01-576b-4173-c396-259ceb68ced4"
      },
      "source": [
        "melhor_solucao, melhor_custo = mlrose.genetic_alg(problema, pop_size=1000, mutation_prob=0.3)\r\n",
        "melhor_solucao, melhor_custo"
      ],
      "execution_count": null,
      "outputs": [
        {
          "output_type": "execute_result",
          "data": {
            "text/plain": [
              "(array([9, 0, 1, 1, 0, 0]), 272.85)"
            ]
          },
          "metadata": {
            "tags": []
          },
          "execution_count": 27
        }
      ]
    },
    {
      "cell_type": "markdown",
      "metadata": {
        "id": "F19YzzMlV4Mn"
      },
      "source": [
        "# Hill climb "
      ]
    },
    {
      "cell_type": "code",
      "metadata": {
        "colab": {
          "base_uri": "https://localhost:8080/"
        },
        "id": "Mj-UzOFVV8O_",
        "outputId": "d5c22df1-a0b1-478e-bea6-eeb046c3f0fe"
      },
      "source": [
        "melhor_solucao, melhor_custo = mlrose.hill_climb(problema)\r\n",
        "melhor_solucao, melhor_custo\r\n"
      ],
      "execution_count": null,
      "outputs": [
        {
          "output_type": "execute_result",
          "data": {
            "text/plain": [
              "(array([3, 0, 0, 0, 0, 0]), 40.95)"
            ]
          },
          "metadata": {
            "tags": []
          },
          "execution_count": 24
        }
      ]
    },
    {
      "cell_type": "markdown",
      "metadata": {
        "id": "Ey1_-gb8WNMJ"
      },
      "source": [
        "# simulating annealing"
      ]
    },
    {
      "cell_type": "code",
      "metadata": {
        "colab": {
          "base_uri": "https://localhost:8080/"
        },
        "id": "rgMm9VegWPii",
        "outputId": "5e8d16f2-03b0-48b7-f1b1-b6fb4d25b7dc"
      },
      "source": [
        "melhor_solucao, melhor_custo = mlrose.simulated_annealing(problema)\r\n",
        "melhor_solucao, melhor_custo"
      ],
      "execution_count": null,
      "outputs": [
        {
          "output_type": "stream",
          "text": [
            "/usr/local/lib/python3.7/dist-packages/mlrose/algorithms.py:311: RuntimeWarning: overflow encountered in exp\n",
            "  prob = np.exp(delta_e/temp)\n"
          ],
          "name": "stderr"
        },
        {
          "output_type": "execute_result",
          "data": {
            "text/plain": [
              "(array([0, 1, 5, 0, 1, 0]), 436.0)"
            ]
          },
          "metadata": {
            "tags": []
          },
          "execution_count": 21
        }
      ]
    },
    {
      "cell_type": "markdown",
      "metadata": {
        "id": "cUxbMm9iW50a"
      },
      "source": [
        "# Imprimir solucao"
      ]
    },
    {
      "cell_type": "code",
      "metadata": {
        "id": "4OxHLOuoW8F4"
      },
      "source": [
        "def imprimir_solucao(lista_fit):\r\n",
        "  diamantes_max = skin\r\n",
        "  soma_diamantes = atual\r\n",
        "  soma_reais = 0\r\n",
        "  print('\\n')\r\n",
        "  print('-='*50)\r\n",
        "  print(f'Voce tem {atual} RPs')\r\n",
        "  print('\\n')\r\n",
        "  print(f'para comprar essa skin, ou ter o valor de {diamantes_max} RPs voce deve comprar os de:')\r\n",
        "\r\n",
        "  for a in range(len(lista_precos)):\r\n",
        "    if lista_fit[a] > 0:\r\n",
        "      soma_diamantes += lista_precos[a][0] * lista_fit[a]\r\n",
        "      soma_reais += lista_precos[a][1] * lista_fit[a]\r\n",
        "      if lista_fit[a] == 1:\r\n",
        "        print(f'{lista_fit[a]}- {lista_precos[a][0]} RPs -> R${lista_precos[a][1]}')\r\n",
        "      else:\r\n",
        "        print(f'{lista_fit[a]}- {lista_precos[a][0]} RPs -> R${lista_precos[a][1]} | R${round(lista_precos[a][1]*lista_fit[a], 2)}')\r\n",
        "  if soma_diamantes < diamantes_max:\r\n",
        "    soma_reais = 99999999\r\n",
        "  print(f'\\nVoce terá no final {soma_diamantes} RPs')\r\n",
        "  print(f'Custando R${round(soma_reais, 2)}')"
      ],
      "execution_count": null,
      "outputs": []
    },
    {
      "cell_type": "code",
      "metadata": {
        "colab": {
          "base_uri": "https://localhost:8080/"
        },
        "id": "eWHSopqkXK_N",
        "outputId": "a84ccfdc-df38-45ba-afa8-679e82910f44"
      },
      "source": [
        "imprimir_solucao(melhor_solucao)"
      ],
      "execution_count": null,
      "outputs": [
        {
          "output_type": "stream",
          "text": [
            "\n",
            "\n",
            "-=-=-=-=-=-=-=-=-=-=-=-=-=-=-=-=-=-=-=-=-=-=-=-=-=-=-=-=-=-=-=-=-=-=-=-=-=-=-=-=-=-=-=-=-=-=-=-=-=-=\n",
            "Voce tem 160 RPs\n",
            "\n",
            "\n",
            "para comprar essa skin, ou ter o valor de 9000 RPs voce deve comprar os de:\n",
            "9- 650 RPs -> R$13.65 | R$122.85\n",
            "1- 2800 RPs -> R$54.5\n",
            "1- 5000 RPs -> R$95.5\n",
            "\n",
            "Voce terá no final 13810 RPs\n",
            "Custando R$272.85\n"
          ],
          "name": "stdout"
        }
      ]
    }
  ]
}